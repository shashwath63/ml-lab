{
 "cells": [
  {
   "cell_type": "code",
   "execution_count": 3,
   "id": "3ab13a4a-eca9-40fa-b221-a7f984a639c8",
   "metadata": {},
   "outputs": [
    {
     "name": "stdout",
     "output_type": "stream",
     "text": [
      "\n",
      "Steps of Candidate Elimination Algorithm 1\n",
      "['Sunny', 'Warm', 'Normal', 'Strong', 'Warm', 'Same']\n",
      "[['?', '?', '?', '?', '?', '?'], ['?', '?', '?', '?', '?', '?'], ['?', '?', '?', '?', '?', '?'], ['?', '?', '?', '?', '?', '?'], ['?', '?', '?', '?', '?', '?'], ['?', '?', '?', '?', '?', '?']]\n",
      "\n",
      "Steps of Candidate Elimination Algorithm 2\n",
      "['Sunny', 'Warm', 'Normal', 'Strong', 'Warm', 'Same']\n",
      "[['?', '?', '?', '?', '?', '?'], ['?', '?', '?', '?', '?', '?'], ['?', '?', '?', '?', '?', '?'], ['?', '?', '?', '?', '?', '?'], ['?', '?', '?', '?', '?', '?'], ['?', '?', '?', '?', '?', '?']]\n",
      "\n",
      "Steps of Candidate Elimination Algorithm 3\n",
      "['Sunny', 'Warm', '?', 'Strong', 'Warm', 'Same']\n",
      "[['?', '?', '?', '?', '?', '?'], ['?', '?', '?', '?', '?', '?'], ['?', '?', '?', '?', '?', '?'], ['?', '?', '?', '?', '?', '?'], ['?', '?', '?', '?', '?', '?'], ['?', '?', '?', '?', '?', '?']]\n",
      "\n",
      "Steps of Candidate Elimination Algorithm 4\n",
      "['Sunny', 'Warm', '?', 'Strong', 'Warm', 'Same']\n",
      "[['Sunny', '?', '?', '?', '?', '?'], ['?', 'Warm', '?', '?', '?', '?'], ['?', '?', '?', '?', '?', '?'], ['?', '?', '?', '?', '?', '?'], ['?', '?', '?', '?', '?', '?'], ['?', '?', '?', '?', '?', 'Same']]\n",
      "\n",
      "Steps of Candidate Elimination Algorithm 5\n",
      "['Sunny', 'Warm', '?', 'Strong', '?', '?']\n",
      "[['Sunny', '?', '?', '?', '?', '?'], ['?', 'Warm', '?', '?', '?', '?'], ['?', '?', '?', '?', '?', '?'], ['?', '?', '?', '?', '?', '?'], ['?', '?', '?', '?', '?', '?'], ['?', '?', '?', '?', '?', '?']]\n",
      "\n",
      "Final specific hypothesis:\n",
      " ['Sunny', 'Warm', '?', 'Strong', '?', '?']\n",
      "\n",
      "Final general hypothesis:\n",
      " [['Sunny', '?', '?', '?', '?', '?'], ['?', 'Warm', '?', '?', '?', '?'], ['?', '?', '?', '?', '?', '?']]\n",
      "Version Space is 3\n"
     ]
    }
   ],
   "source": [
    "import csv\n",
    "\n",
    "with open(\"CandidateElimination.csv\") as f:\n",
    "    csv_file = csv.reader(f)\n",
    "    data = list(csv_file)\n",
    "\n",
    "    s = data[1][:-1]\n",
    "    g = [['?' for i in range(len(s))] for j in range(len(s))]\n",
    "\n",
    "    for i in data:\n",
    "        if i[-1] == \"Yes\":\n",
    "            for j in range(len(s)):\n",
    "                if i[j] != s[j]:\n",
    "                    s[j] = '?'\n",
    "                    g[j][j] = '?'\n",
    "\n",
    "        elif i[-1] == \"No\":\n",
    "            for j in range(len(s)):\n",
    "                if i[j] != s[j]:\n",
    "                    g[j][j] = s[j]\n",
    "                else:\n",
    "                    g[j][j] = \"?\"\n",
    "        print(\"\\nSteps of Candidate Elimination Algorithm\", data.index(i) + 1)\n",
    "        print(s)\n",
    "        print(g)\n",
    "    gh = []\n",
    "    for i in g:\n",
    "        for j in i:\n",
    "            if j != '?':\n",
    "                gh.append(i)\n",
    "                break\n",
    "    ah=['?','?','?','?','?','?']\n",
    "    gh.append(ah)\n",
    "    print(\"\\nFinal specific hypothesis:\\n\", s)\n",
    "\n",
    "    print(\"\\nFinal general hypothesis:\\n\", gh)\n",
    "    print(\"Version Space is\", len(gh))"
   ]
  },
  {
   "cell_type": "code",
   "execution_count": null,
   "id": "0d6fa64e-06f9-435c-9f8b-920214dd81a0",
   "metadata": {},
   "outputs": [],
   "source": []
  }
 ],
 "metadata": {
  "kernelspec": {
   "display_name": "Python 3 (ipykernel)",
   "language": "python",
   "name": "python3"
  },
  "language_info": {
   "codemirror_mode": {
    "name": "ipython",
    "version": 3
   },
   "file_extension": ".py",
   "mimetype": "text/x-python",
   "name": "python",
   "nbconvert_exporter": "python",
   "pygments_lexer": "ipython3",
   "version": "3.11.3"
  }
 },
 "nbformat": 4,
 "nbformat_minor": 5
}
