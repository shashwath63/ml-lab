{
 "cells": [
  {
   "cell_type": "code",
   "execution_count": 4,
   "id": "c67985cc-d732-425a-91bd-d9bfabf9c01e",
   "metadata": {},
   "outputs": [
    {
     "name": "stdout",
     "output_type": "stream",
     "text": [
      "List of attribute names: ['Outlook', 'Temperature', 'Humidity', 'Wind']\n",
      "The tree structure:\n",
      "{'Outlook': {0: {'Temperature': {0: 0, 1: 0, 2: 1}},\n",
      "             1: 1,\n",
      "             2: {'Temperature': {1: 1, 2: {'Wind': {0: 1, 1: 0}}}}}}\n"
     ]
    }
   ],
   "source": [
    "import pandas as pd\n",
    "from pprint import pprint\n",
    "from sklearn.feature_selection import mutual_info_classif\n",
    "from collections import Counter\n",
    "\n",
    "def id3(df, target_attribute, attribute_names, default_class=None):\n",
    "    cnt = Counter(x for x in df[target_attribute])\n",
    "    \n",
    "    if len(cnt) == 1:\n",
    "        return next(iter(cnt))\n",
    "    \n",
    "    elif df.empty or (not attribute_names):\n",
    "        return default_class\n",
    "    \n",
    "    else:\n",
    "        gainz = mutual_info_classif(df[attribute_names], df[target_attribute], discrete_features=True)\n",
    "        index_of_max = gainz.tolist().index(max(gainz))\n",
    "        best_attr = attribute_names[index_of_max]\n",
    "        tree = {best_attr: {}}\n",
    "        remaining_attribute_names = [i for i in attribute_names if i != best_attr]\n",
    "        \n",
    "        for attr_val, data_subset in df.groupby(best_attr):\n",
    "            subtree = id3(data_subset, target_attribute, remaining_attribute_names, default_class)\n",
    "            tree[best_attr][attr_val] = subtree\n",
    "        \n",
    "        return tree\n",
    "\n",
    "df = pd.read_csv(\"tennisdata1.csv\")\n",
    "\n",
    "# Factorize object-type columns\n",
    "for colname in df.select_dtypes(\"object\"):\n",
    "    df[colname], _ = df[colname].factorize()\n",
    "\n",
    "attribute_names = df.columns.tolist()\n",
    "attribute_names.remove(\"Target\")\n",
    "\n",
    "print(\"List of attribute names:\", attribute_names)\n",
    "\n",
    "tree = id3(df, \"Target\", attribute_names)\n",
    "print(\"The tree structure:\")\n",
    "pprint(tree)\n"
   ]
  },
  {
   "cell_type": "code",
   "execution_count": null,
   "id": "2caf2918-1d60-4c6b-b8b1-b6a27061a0e1",
   "metadata": {},
   "outputs": [],
   "source": []
  }
 ],
 "metadata": {
  "kernelspec": {
   "display_name": "Python 3 (ipykernel)",
   "language": "python",
   "name": "python3"
  },
  "language_info": {
   "codemirror_mode": {
    "name": "ipython",
    "version": 3
   },
   "file_extension": ".py",
   "mimetype": "text/x-python",
   "name": "python",
   "nbconvert_exporter": "python",
   "pygments_lexer": "ipython3",
   "version": "3.11.3"
  }
 },
 "nbformat": 4,
 "nbformat_minor": 5
}
